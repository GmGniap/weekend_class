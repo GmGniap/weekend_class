{
 "cells": [
  {
   "cell_type": "markdown",
   "metadata": {},
   "source": [
    "### Q1. Nth Digit\n",
    "\n",
    "Implement a function:\n",
    "`def get_nth_digit(k, n)`:\n",
    "that accepts a 6 digit decimal number k (i.e., 100000 ≤ k ≤ 999999) and a single digit n (1 ≤ n ≤ 6), return the the nth digit in k.\n",
    "\n",
    "The first digit is the digit on the right-most of k.\n",
    "\n",
    "Test Cases:\n",
    "- get_nth_digit(375416, 4) -> 5\n",
    "- get_nth_digit(987654, 1) -> 4\n",
    "- get_nth_digit(123456, 6) -> 1\n",
    "- get_nth_digit(100000, 3) -> 0\n"
   ]
  },
  {
   "cell_type": "markdown",
   "metadata": {},
   "source": [
    "## Solution here"
   ]
  },
  {
   "cell_type": "markdown",
   "metadata": {},
   "source": [
    "### Q2 : Read Formatted Data\n",
    "\n",
    "Implement a function `format_sum` that reads in four integers as a string in the format int1+int2+int3+int4 and returns their sum.\n",
    "\n",
    "To aid you, the following function, `get_int(string, separator, n)` is defined for you. Use the function to get the nth integer in the string that is separated by separator. The following example illustrates how it works:\n",
    "\n",
    "- fibo_string = \"13=21=34=55=89\"\n",
    "- get_int(fibo_string, \"=\", 0) # 13\n",
    "- get_int(fibo_string, \"=\", 3) # 55\n",
    "\n",
    "**Test Cases**\n",
    "- format_sum('1+2+3+4') -> 10\n",
    "- format_sum('-10+10+-10+10') -> 0\n",
    "- format_sum('100+10+1+0') -> 111"
   ]
  },
  {
   "cell_type": "code",
   "execution_count": null,
   "metadata": {},
   "outputs": [],
   "source": [
    "# Predefined helper function. Do not edit.\n",
    "def get_int(string, separator, n):\n",
    "    return int(string.split(separator)[n])\n",
    "\n",
    "## Write solution code inside format_sum() function\n",
    "## Don't edit get_int() function which is helper needed to use in your solution code.\n",
    "def format_sum(int_string):\n",
    "    # Fill in your solution code here!!!\n",
    "    pass\n"
   ]
  },
  {
   "cell_type": "markdown",
   "metadata": {},
   "source": [
    "### Q3 : Time Difference\n",
    "It is often useful to know the time difference between a starting time and an ending time. Suppose the starting time is 11:46:39 (11:46 hours and 39 seconds) and the ending time is 22:31:17 (22:31 hours and 17 seconds). The time difference is then 10:44:38 (10 hours 44 minutes and 38 seconds).\n",
    "\n",
    "Write a function `time_difference` that reads the starting time and ending time as input strings, calculates and then displays the time difference. Each input strings consists of three integers, denoting the hour, minute and second, separated by colons, e.g. \"12:59:59\". The first string is the start time while the second is the end time. You can assume that:\n",
    "\n",
    "1. Both starting time and ending time are in 24-hour format.\n",
    "2. The starting time and ending time are always in the same day.\n",
    "3. The ending time is always after the starting time.\n",
    "4. Print the time difference in the format as shown in the sample test cases.\n",
    "\n",
    "To aid you, the following functions are defined for you:\n",
    "- `time_to_seconds(time)`: A function that takes in a time in string, and returns the number of seconds that has elapsed since 00:00:00\n",
    "\n",
    "- `make_time_string(hours, mins, seconds)`: A function that takes in hours, mins, and seconds, and returns a string that represents the time.\n"
   ]
  },
  {
   "cell_type": "markdown",
   "metadata": {},
   "source": [
    "**Test Cases**\n",
    "- time_difference('01:02:03', '13:12:11') -> 12:10:08\n",
    "- time_difference('11:46:39', '22:31:17') -> 10:44:38\n",
    "- time_difference('00:00:00', '23:59:59') -> 23:59:59\n",
    "- time_difference('00:00:00', '00:00:01') -> 00:00:01"
   ]
  },
  {
   "cell_type": "code",
   "execution_count": null,
   "metadata": {},
   "outputs": [],
   "source": [
    "# Predefined helper functions. Do not edit them.\n",
    "def time_to_seconds(time):\n",
    "    x = list(map(int, time.split(\":\")))\n",
    "    return x[0] * 3600 + x[1]*60 + x[2]\n",
    "\n",
    "def make_time_string(hours, mins, seconds):\n",
    "    return \"{:02d}:{:02d}:{:02d}\".format(hours, mins, seconds)\n",
    "\n",
    "## Write your solution code inside time_difference() function.\n",
    "def time_difference(time1, time2):\n",
    "    ## Write your solution code here!!!!!!!!\n",
    "    pass"
   ]
  },
  {
   "cell_type": "markdown",
   "metadata": {},
   "source": [
    "### Q4: Type of Triangle\n",
    "\n",
    "Write a function `triangle` that accepts three positive integers as inputs, denoting lengths of three sides of a triangle and returns the triangle's type:\n",
    "\n",
    "- \"Not a triangle\" - the length of any side is longer or equal to the sum of the other two sides.\n",
    "- \"Equilateral\" - all sides of a triangle have the same length.\n",
    "- \"Isosceles\" - two sides are equal in length and not equilateral.\n",
    "- \"Scalene\" - it is a triangle AND all sides are unequal (which also implies not isosceles and not equilateral)."
   ]
  },
  {
   "cell_type": "code",
   "execution_count": null,
   "metadata": {},
   "outputs": [],
   "source": [
    "## Write your solution inside triangle() function.\n",
    "def triangle(side1, side2, side3):\n",
    "    ## Write your solution code here!!!\n",
    "    pass"
   ]
  }
 ],
 "metadata": {
  "language_info": {
   "name": "python"
  },
  "orig_nbformat": 4
 },
 "nbformat": 4,
 "nbformat_minor": 2
}
