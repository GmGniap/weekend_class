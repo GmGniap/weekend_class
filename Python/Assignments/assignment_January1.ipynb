{
 "cells": [
  {
   "cell_type": "markdown",
   "metadata": {},
   "source": [
    "## Assignment 1\n",
    "- Ask the user to enter their name and a number.\n",
    "- If the number is **less than 10**,then display their name that number of times.\n",
    "- Else, display message \"Number is too high\" for **three times**."
   ]
  },
  {
   "cell_type": "code",
   "execution_count": null,
   "metadata": {},
   "outputs": [],
   "source": [
    "## Solution here"
   ]
  },
  {
   "cell_type": "markdown",
   "metadata": {},
   "source": [
    "## Assignment 2\n",
    "- Set a variable called total to 0.\n",
    "- Ask the user for **five times** to enter a number.\n",
    "- After each input, ask them again if they want that number included ('Yes' or 'No').\n",
    "- If they want to include(Yes), add this number to the total.\n",
    "- If they don't want to include(No), don't add this number to the total.\n",
    "- After they have enter all five numbers, display the total."
   ]
  },
  {
   "cell_type": "code",
   "execution_count": null,
   "metadata": {},
   "outputs": [],
   "source": [
    "## Solution here"
   ]
  },
  {
   "cell_type": "markdown",
   "metadata": {},
   "source": [
    "## Assignment 3\n",
    "- Ask which direction the user wants to count ('Up' or 'Down').\n",
    "- If they select 'Up',then ask them the maximum number and then count from **1** to that **max number**.\n",
    "- If they select 'Down',then ask them to enter a number below 20 and then count down from **20** to that **number**. (Hint: to do reverse count, use **step** from range() as **-1**.)\n",
    "- If they enter something other than 'Up' or 'Down', display the message \"I don't understand\"."
   ]
  },
  {
   "cell_type": "code",
   "execution_count": null,
   "metadata": {},
   "outputs": [],
   "source": [
    "## Solution here"
   ]
  },
  {
   "cell_type": "markdown",
   "metadata": {},
   "source": [
    "## Assignment 4\n",
    "- Ask how many people the user wants to invite to New Year party.\n",
    "- If they enter a number below 10, ask again for the names and after each name, display \"{name} has been invited\".\n",
    "- If they enter a number which is 10 or higher, display the message \"Too many people\"."
   ]
  },
  {
   "cell_type": "code",
   "execution_count": null,
   "metadata": {},
   "outputs": [],
   "source": [
    "## Solution here"
   ]
  }
 ],
 "metadata": {
  "language_info": {
   "name": "python"
  },
  "orig_nbformat": 4
 },
 "nbformat": 4,
 "nbformat_minor": 2
}
