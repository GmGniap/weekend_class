{
 "cells": [
  {
   "cell_type": "markdown",
   "metadata": {},
   "source": [
    "## Guess the number\n",
    "- Import `random` module.\n",
    "- Generate random integer between 0 and 100 by using `random.randint()` function.\n",
    "- Then ask the user to guess what number has been chosen.\n",
    "- Each time the user enters a guess, the program indicates one of the following:\n",
    "    - Too high\n",
    "    - Too low\n",
    "    - Correct!\n",
    "- If the user guesses correctly, the program **exits** or breaks. Otherwise, the user is asked to try again.\n",
    "- **The program only exits after the user guesses correctly**. "
   ]
  },
  {
   "cell_type": "code",
   "execution_count": null,
   "metadata": {},
   "outputs": [],
   "source": [
    "## Solution here"
   ]
  },
  {
   "cell_type": "markdown",
   "metadata": {},
   "source": [
    "## Summing numbers from a list\n",
    "- Create a list including 8 numbers on your own.\n",
    "- Find the total sum of the numbers from the list."
   ]
  },
  {
   "cell_type": "code",
   "execution_count": null,
   "metadata": {},
   "outputs": [],
   "source": [
    "## Solution here"
   ]
  },
  {
   "cell_type": "markdown",
   "metadata": {},
   "source": [
    "## Secret Language conversion\n",
    "- Ask the user to input an English word. (all small letters)\n",
    "- If the word **begin with a vowel** (a,e,i,o,u), add \"way\" to the end of the word. Example : \"air\" becomes \"airway\" and \"eat\" becomes \"eatway\".\n",
    "- If the word **begin with any other letter**, then we take the first letter, put it on the end of the word, and then add \"ay\". Example: \"python\" becomes \"ythonpay\" and \"computer becomes \"omputercay\".\n",
    "- *Hint: You can do the text changes inside `print()` by something you already learnt*."
   ]
  },
  {
   "cell_type": "code",
   "execution_count": null,
   "metadata": {},
   "outputs": [],
   "source": [
    "## Solution here"
   ]
  },
  {
   "cell_type": "markdown",
   "metadata": {},
   "source": [
    "## \\[First, Last\\] list\n",
    "- Make two lists as given : `mylist = [1,2,3,4,5]` , `mylist2 = ['a','b','c','d']`.\n",
    "- Print a new list that include only first and last items.\n",
    "- Example : For `mylist = [1,2,3,4,5]`, the expected result is `[1,5]`, not 6.\n",
    "- Example : For `mylist2 = ['a','b','c','d']`, the expected result is `['a','d']`, not 'ad'."
   ]
  },
  {
   "cell_type": "code",
   "execution_count": null,
   "metadata": {},
   "outputs": [],
   "source": [
    "## Solution here"
   ]
  },
  {
   "cell_type": "markdown",
   "metadata": {},
   "source": [
    "## Hobbies list\n",
    "- Create a list of two hobbies.\n",
    "- Ask the usere what their fav hobby is and add this to the end of the list.\n",
    "- **Sort** the list and display it."
   ]
  },
  {
   "cell_type": "code",
   "execution_count": null,
   "metadata": {},
   "outputs": [],
   "source": [
    "## Solution here"
   ]
  },
  {
   "cell_type": "markdown",
   "metadata": {},
   "source": [
    "## Delete unfavorite subjects\n",
    "- Create a list of **six** school subjects.\n",
    "- Ask the user which of these subjects they don't like.\n",
    "- **Delete** the subject they have chosen from the list.\n",
    "- Display the list again."
   ]
  },
  {
   "cell_type": "code",
   "execution_count": null,
   "metadata": {},
   "outputs": [],
   "source": [
    "## Solution here"
   ]
  }
 ],
 "metadata": {
  "language_info": {
   "name": "python"
  },
  "orig_nbformat": 4
 },
 "nbformat": 4,
 "nbformat_minor": 2
}
