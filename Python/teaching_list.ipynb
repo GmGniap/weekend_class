{
 "cells": [
  {
   "cell_type": "markdown",
   "metadata": {},
   "source": [
    "# List\n",
    "- a sequence used to store multiple items in a single variable. (no need to be same data types to store as multiple items)\n",
    "- one of four built-in data types used to store collections of data.\n",
    "- List, Tuple, Set, Dictionary\n",
    "- In other programming languages, they called Arrays ,but in Python, it's called List."
   ]
  },
  {
   "cell_type": "code",
   "execution_count": 2,
   "metadata": {},
   "outputs": [
    {
     "name": "stdout",
     "output_type": "stream",
     "text": [
      "[10, 20, 30, 40]\n"
     ]
    },
    {
     "data": {
      "text/plain": [
       "list"
      ]
     },
     "execution_count": 2,
     "metadata": {},
     "output_type": "execute_result"
    }
   ],
   "source": [
    "mylist = [10,20,30,40]\n",
    "print(mylist)\n",
    "type(mylist)"
   ]
  },
  {
   "cell_type": "markdown",
   "metadata": {},
   "source": [
    "- Lists are **Mutable**.\n",
    "- That means you can change any of its items without reassigning it."
   ]
  },
  {
   "cell_type": "code",
   "execution_count": 3,
   "metadata": {},
   "outputs": [
    {
     "name": "stdout",
     "output_type": "stream",
     "text": [
      "['Thor', 'Spiderman', 'Ironman']\n"
     ]
    }
   ],
   "source": [
    "avengers = ['Thor','Spiderman','Ironman']\n",
    "print(avengers)"
   ]
  },
  {
   "cell_type": "code",
   "execution_count": 4,
   "metadata": {},
   "outputs": [
    {
     "name": "stdout",
     "output_type": "stream",
     "text": [
      "['Dr.Strange', 'Spiderman', 'Ironman']\n"
     ]
    }
   ],
   "source": [
    "## Replace 'Thor' with 'Dr.Strange'\n",
    "avengers[0] = 'Dr.Strange'\n",
    "print(avengers)\n",
    "## Replace 'Ironman' with your fav avenger"
   ]
  },
  {
   "cell_type": "markdown",
   "metadata": {},
   "source": [
    "### Indexing\n",
    "- Index count from 0 (left to right)\n",
    "- If you try to access an item with an index which does not exist in the list, you will get **IndexError**.\n",
    "\n",
    "|avengers|'Dr.Strange|'Spiderman'|'Ironman'|\n",
    "|:------:|:---------:|:---------:|:---------:|\n",
    "|Index|0|1|2|\n",
    "|Negative Index|-3|-2|-1|"
   ]
  },
  {
   "cell_type": "code",
   "execution_count": 6,
   "metadata": {},
   "outputs": [
    {
     "name": "stdout",
     "output_type": "stream",
     "text": [
      "Ironman\n"
     ]
    }
   ],
   "source": [
    "print(avengers[-1])"
   ]
  },
  {
   "cell_type": "code",
   "execution_count": 5,
   "metadata": {},
   "outputs": [
    {
     "ename": "IndexError",
     "evalue": "list index out of range",
     "output_type": "error",
     "traceback": [
      "\u001b[0;31m---------------------------------------------------------------------------\u001b[0m",
      "\u001b[0;31mIndexError\u001b[0m                                Traceback (most recent call last)",
      "Cell \u001b[0;32mIn [5], line 1\u001b[0m\n\u001b[0;32m----> 1\u001b[0m \u001b[38;5;28mprint\u001b[39m(\u001b[43mavengers\u001b[49m\u001b[43m[\u001b[49m\u001b[38;5;241;43m5\u001b[39;49m\u001b[43m]\u001b[49m)\n",
      "\u001b[0;31mIndexError\u001b[0m: list index out of range"
     ]
    }
   ],
   "source": [
    "print(avengers[5])"
   ]
  },
  {
   "cell_type": "code",
   "execution_count": 7,
   "metadata": {},
   "outputs": [
    {
     "ename": "IndexError",
     "evalue": "list assignment index out of range",
     "output_type": "error",
     "traceback": [
      "\u001b[0;31m---------------------------------------------------------------------------\u001b[0m",
      "\u001b[0;31mIndexError\u001b[0m                                Traceback (most recent call last)",
      "Cell \u001b[0;32mIn [7], line 1\u001b[0m\n\u001b[0;32m----> 1\u001b[0m \u001b[43mavengers\u001b[49m\u001b[43m[\u001b[49m\u001b[38;5;241;43m3\u001b[39;49m\u001b[43m]\u001b[49m \u001b[38;5;241m=\u001b[39m \u001b[38;5;124m'\u001b[39m\u001b[38;5;124mGroot\u001b[39m\u001b[38;5;124m'\u001b[39m\n\u001b[1;32m      2\u001b[0m \u001b[38;5;28mprint\u001b[39m(avengers)\n",
      "\u001b[0;31mIndexError\u001b[0m: list assignment index out of range"
     ]
    }
   ],
   "source": [
    "avengers[3] = 'Groot'\n",
    "print(avengers)"
   ]
  },
  {
   "cell_type": "code",
   "execution_count": 11,
   "metadata": {},
   "outputs": [
    {
     "name": "stdout",
     "output_type": "stream",
     "text": [
      "12\n",
      "6\n"
     ]
    }
   ],
   "source": [
    "## Exercise\n",
    "## Military time to standard time\n",
    "## Chart - https://external-content.duckduckgo.com/iu/?u=https%3A%2F%2Ftse1.mm.bing.net%2Fth%3Fid%3DOIP.4_KzM2GyY6IXbInLZ4xsugHaJl%26pid%3DApi&f=1&ipt=be0a8c29319968e0cbb65a960e14e161e097bbf3a06409390c78f906956ce2a0&ipo=images\n",
    "standardHours = [12, 1, 2, 3, 4, 5, 6, 7, 8, 9, 10, 11]\n",
    "print(len(standardHours))"
   ]
  },
  {
   "cell_type": "code",
   "execution_count": null,
   "metadata": {},
   "outputs": [],
   "source": [
    "## solution\n",
    "military_hour = 18\n",
    "hour = standardHours[military_hour % len(standardHours)]\n",
    "print(hour)"
   ]
  },
  {
   "cell_type": "code",
   "execution_count": 15,
   "metadata": {},
   "outputs": [
    {
     "data": {
      "text/plain": [
       "7"
      ]
     },
     "execution_count": 15,
     "metadata": {},
     "output_type": "execute_result"
    }
   ],
   "source": [
    "## How to consider AM/PM"
   ]
  },
  {
   "cell_type": "markdown",
   "metadata": {},
   "source": [
    "### Loop over a List"
   ]
  },
  {
   "cell_type": "code",
   "execution_count": 9,
   "metadata": {},
   "outputs": [
    {
     "name": "stdout",
     "output_type": "stream",
     "text": [
      "Dr.Strange\n",
      "--x--\n",
      "Spiderman\n",
      "--x--\n",
      "Ironman\n",
      "--x--\n"
     ]
    }
   ],
   "source": [
    "for a in avengers:\n",
    "    print(a)\n",
    "    print(\"--x--\")"
   ]
  },
  {
   "cell_type": "code",
   "execution_count": 10,
   "metadata": {},
   "outputs": [
    {
     "name": "stdout",
     "output_type": "stream",
     "text": [
      "0 - Dr.Strange\n",
      "1 - Spiderman\n",
      "2 - Ironman\n"
     ]
    }
   ],
   "source": [
    "## If we need to print index for each avengers, we can use enumerate() function\n",
    "for index, a in enumerate(avengers):\n",
    "    print(f\"{index} - {a}\")"
   ]
  },
  {
   "cell_type": "code",
   "execution_count": 28,
   "metadata": {},
   "outputs": [
    {
     "name": "stdout",
     "output_type": "stream",
     "text": [
      "Index: 0 for Thor\n",
      "Index: 1 for Spiderman\n",
      "Index: 2 for Ironman\n"
     ]
    }
   ],
   "source": [
    "## Using range + length of list\n",
    "for i in range(len(avengers)):\n",
    "    print(f\"Index: {i} for {avengers[i]}\")"
   ]
  },
  {
   "cell_type": "code",
   "execution_count": 29,
   "metadata": {},
   "outputs": [
    {
     "name": "stdout",
     "output_type": "stream",
     "text": [
      "Hero Thor fight with thanosA\n",
      "Hero Spiderman fight with tharnosB\n",
      "Hero Ironman fight with thanos\n"
     ]
    }
   ],
   "source": [
    "## Exercise\n",
    "villains = ['thanosA','tharnosB','thanos']\n",
    "for i in range(len(villains)):\n",
    "    print(f\"Hero {avengers[i]} fight with {villains[i]}\")\n",
    "    "
   ]
  },
  {
   "cell_type": "markdown",
   "metadata": {},
   "source": [
    "### List Operations\n",
    "- Addition - concatenates the lists one after another\n",
    "- Multiplication - repeating the list by the amount of multiply number\n",
    "- They don't work like normal mathematical operations."
   ]
  },
  {
   "cell_type": "code",
   "execution_count": 1,
   "metadata": {},
   "outputs": [
    {
     "name": "stdout",
     "output_type": "stream",
     "text": [
      "[10, 20, 30, 4, 8, 12]\n"
     ]
    }
   ],
   "source": [
    "## List Operations - Addition\n",
    "a = [10, 20, 30]\n",
    "b = [4, 8, 12]\n",
    "c = a + b\n",
    "print(c)"
   ]
  },
  {
   "cell_type": "code",
   "execution_count": 3,
   "metadata": {},
   "outputs": [
    {
     "name": "stdout",
     "output_type": "stream",
     "text": [
      "[10, 20, 30, 4, 8, 12, 'A', 'b', 'C']\n"
     ]
    }
   ],
   "source": [
    "a = [10, 20, 30]\n",
    "b = [4, 8, 12]\n",
    "c = ['A','b','C']\n",
    "d = a + b + c\n",
    "print(d)"
   ]
  },
  {
   "cell_type": "code",
   "execution_count": 4,
   "metadata": {},
   "outputs": [
    {
     "name": "stdout",
     "output_type": "stream",
     "text": [
      "carcarcar\n"
     ]
    }
   ],
   "source": [
    "## List Operations - multiplication\n",
    "c = 'car'\n",
    "print(3 * c)"
   ]
  },
  {
   "cell_type": "code",
   "execution_count": 5,
   "metadata": {},
   "outputs": [
    {
     "name": "stdout",
     "output_type": "stream",
     "text": [
      "['Thor', 'Spiderman', 'Ironman', 'Thor', 'Spiderman', 'Ironman']\n"
     ]
    }
   ],
   "source": [
    "avengers = ['Thor','Spiderman','Ironman']\n",
    "print(2 * avengers)"
   ]
  },
  {
   "cell_type": "code",
   "execution_count": 7,
   "metadata": {},
   "outputs": [
    {
     "data": {
      "text/plain": [
       "[5, 5, 5, 5]"
      ]
     },
     "execution_count": 7,
     "metadata": {},
     "output_type": "execute_result"
    }
   ],
   "source": [
    "[5] * 4\n",
    "## 5 * 4"
   ]
  },
  {
   "cell_type": "markdown",
   "metadata": {},
   "source": [
    "### List Slicing"
   ]
  },
  {
   "cell_type": "code",
   "execution_count": 18,
   "metadata": {},
   "outputs": [
    {
     "name": "stdout",
     "output_type": "stream",
     "text": [
      "['a', 'b', 'c', 'd', 'e', 'f']\n",
      "['a', 'b', 'c', 'd']\n"
     ]
    }
   ],
   "source": [
    "my_list = ['a','b','c','d','e','f']\n",
    "print(my_list)\n",
    "print(my_list[0:4])"
   ]
  },
  {
   "cell_type": "code",
   "execution_count": 17,
   "metadata": {},
   "outputs": [
    {
     "data": {
      "text/plain": [
       "['a', 'b', 'c', 'd']"
      ]
     },
     "execution_count": 17,
     "metadata": {},
     "output_type": "execute_result"
    }
   ],
   "source": [
    "## 0 is default value for start\n",
    "my_list[:4]"
   ]
  },
  {
   "cell_type": "code",
   "execution_count": 19,
   "metadata": {},
   "outputs": [
    {
     "data": {
      "text/plain": [
       "['a', 'b', 'c', 'd', 'e', 'f']"
      ]
     },
     "execution_count": 19,
     "metadata": {},
     "output_type": "execute_result"
    }
   ],
   "source": [
    "## get all items of list\n",
    "my_list[::]"
   ]
  },
  {
   "cell_type": "code",
   "execution_count": 20,
   "metadata": {},
   "outputs": [
    {
     "data": {
      "text/plain": [
       "['a', 'c', 'e']"
      ]
     },
     "execution_count": 20,
     "metadata": {},
     "output_type": "execute_result"
    }
   ],
   "source": [
    "## get items with even indices\n",
    "## start from 0, step size is 2\n",
    "## 0,2,4,...\n",
    "my_list[::2]"
   ]
  },
  {
   "cell_type": "code",
   "execution_count": 24,
   "metadata": {},
   "outputs": [
    {
     "data": {
      "text/plain": [
       "['b', 'd', 'f']"
      ]
     },
     "execution_count": 24,
     "metadata": {},
     "output_type": "execute_result"
    }
   ],
   "source": [
    "## get items with odd indices\n",
    "## start from 1, step size is 2\n",
    "## 1,3,5,...\n",
    "my_list[1::2]"
   ]
  },
  {
   "cell_type": "code",
   "execution_count": 25,
   "metadata": {},
   "outputs": [
    {
     "data": {
      "text/plain": [
       "['f', 'e', 'd', 'c', 'b', 'a']"
      ]
     },
     "execution_count": 25,
     "metadata": {},
     "output_type": "execute_result"
    }
   ],
   "source": [
    "## reverse of the list\n",
    "my_list[::-1]"
   ]
  },
  {
   "cell_type": "markdown",
   "metadata": {},
   "source": [
    "\n",
    "### List Methods\n",
    "- append() - adds an element at the end of the list\n",
    "- insert() - adds an element at specified index\n",
    "- extend() - concatenates a list to another\n",
    "- sort() - sorts the list\n",
    "- sorted() - sorts the list and return a new list"
   ]
  },
  {
   "cell_type": "code",
   "execution_count": null,
   "metadata": {},
   "outputs": [],
   "source": []
  }
 ],
 "metadata": {
  "interpreter": {
   "hash": "aee8b7b246df8f9039afb4144a1f6fd8d2ca17a180786b69acc140d282b71a49"
  },
  "kernelspec": {
   "display_name": "Python 3.11.0 64-bit",
   "language": "python",
   "name": "python3"
  },
  "language_info": {
   "codemirror_mode": {
    "name": "ipython",
    "version": 3
   },
   "file_extension": ".py",
   "mimetype": "text/x-python",
   "name": "python",
   "nbconvert_exporter": "python",
   "pygments_lexer": "ipython3",
   "version": "3.11.0"
  },
  "orig_nbformat": 4
 },
 "nbformat": 4,
 "nbformat_minor": 2
}
