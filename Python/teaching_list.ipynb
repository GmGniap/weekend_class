{
 "cells": [
  {
   "cell_type": "markdown",
   "metadata": {},
   "source": [
    "# List\n",
    "- a sequence used to store multiple items in a single variable. (no need to be same data types to store as multiple items)\n",
    "- one of four built-in data types used to store collections of data.\n",
    "- List[], Tuple(), Set{}, Dictionary{}\n",
    "- In other programming languages, they called Arrays ,but in Python, it's called List."
   ]
  },
  {
   "cell_type": "code",
   "execution_count": null,
   "metadata": {},
   "outputs": [],
   "source": [
    "mylist = [10,20,30,40]\n",
    "print(mylist)\n",
    "type(mylist)"
   ]
  },
  {
   "cell_type": "code",
   "execution_count": null,
   "metadata": {},
   "outputs": [],
   "source": [
    "test_list = [1,2,3.15,'one']\n",
    "print(type(test_list))"
   ]
  },
  {
   "cell_type": "markdown",
   "metadata": {},
   "source": [
    "- Lists are **Mutable**.\n",
    "- That means you can change any of its items without reassigning it."
   ]
  },
  {
   "cell_type": "code",
   "execution_count": 34,
   "metadata": {},
   "outputs": [
    {
     "name": "stdout",
     "output_type": "stream",
     "text": [
      "['Thor', 'Spiderman', 'Ironman']\n"
     ]
    }
   ],
   "source": [
    "avengers = ['Thor','Spiderman','Ironman']\n",
    "print(avengers)"
   ]
  },
  {
   "cell_type": "code",
   "execution_count": 35,
   "metadata": {},
   "outputs": [
    {
     "name": "stdout",
     "output_type": "stream",
     "text": [
      "['Dr.Strange', 'Spiderman', 'Ironman']\n"
     ]
    }
   ],
   "source": [
    "## Replace 'Thor' with 'Dr.Strange'\n",
    "avengers[0] = 'Dr.Strange'\n",
    "print(avengers)\n",
    "## Replace 'Ironman' with your fav avenger"
   ]
  },
  {
   "cell_type": "code",
   "execution_count": 37,
   "metadata": {},
   "outputs": [
    {
     "name": "stdout",
     "output_type": "stream",
     "text": [
      "Ironman\n"
     ]
    }
   ],
   "source": [
    "print(avengers[2])"
   ]
  },
  {
   "cell_type": "code",
   "execution_count": 38,
   "metadata": {},
   "outputs": [
    {
     "name": "stdout",
     "output_type": "stream",
     "text": [
      "Spiderman\n"
     ]
    }
   ],
   "source": [
    "print(avengers[-2])"
   ]
  },
  {
   "cell_type": "markdown",
   "metadata": {},
   "source": [
    "### Indexing\n",
    "- Index count from 0 (left to right)\n",
    "- If you try to access an item with an index which does not exist in the list, you will get **IndexError**.\n",
    "\n",
    "|avengers|'Dr.Strange|'Spiderman'|'Ironman'|\n",
    "|:------:|:---------:|:---------:|:---------:|\n",
    "|Index|0|1|2|\n",
    "|Negative Index|-3|-2|-1|"
   ]
  },
  {
   "cell_type": "code",
   "execution_count": 39,
   "metadata": {},
   "outputs": [
    {
     "name": "stdout",
     "output_type": "stream",
     "text": [
      "Ironman\n"
     ]
    }
   ],
   "source": [
    "print(avengers[-1])"
   ]
  },
  {
   "cell_type": "code",
   "execution_count": 41,
   "metadata": {},
   "outputs": [
    {
     "ename": "IndexError",
     "evalue": "list index out of range",
     "output_type": "error",
     "traceback": [
      "\u001b[0;31m---------------------------------------------------------------------------\u001b[0m",
      "\u001b[0;31mIndexError\u001b[0m                                Traceback (most recent call last)",
      "Cell \u001b[0;32mIn [41], line 1\u001b[0m\n\u001b[0;32m----> 1\u001b[0m \u001b[38;5;28mprint\u001b[39m(\u001b[43mavengers\u001b[49m\u001b[43m[\u001b[49m\u001b[38;5;241;43m5\u001b[39;49m\u001b[43m]\u001b[49m)\n",
      "\u001b[0;31mIndexError\u001b[0m: list index out of range"
     ]
    }
   ],
   "source": [
    "print(avengers[5])"
   ]
  },
  {
   "cell_type": "code",
   "execution_count": 42,
   "metadata": {},
   "outputs": [
    {
     "ename": "IndexError",
     "evalue": "list assignment index out of range",
     "output_type": "error",
     "traceback": [
      "\u001b[0;31m---------------------------------------------------------------------------\u001b[0m",
      "\u001b[0;31mIndexError\u001b[0m                                Traceback (most recent call last)",
      "Cell \u001b[0;32mIn [42], line 1\u001b[0m\n\u001b[0;32m----> 1\u001b[0m \u001b[43mavengers\u001b[49m\u001b[43m[\u001b[49m\u001b[38;5;241;43m3\u001b[39;49m\u001b[43m]\u001b[49m \u001b[38;5;241m=\u001b[39m \u001b[38;5;124m'\u001b[39m\u001b[38;5;124mGroot\u001b[39m\u001b[38;5;124m'\u001b[39m\n\u001b[1;32m      2\u001b[0m \u001b[38;5;28mprint\u001b[39m(avengers)\n",
      "\u001b[0;31mIndexError\u001b[0m: list assignment index out of range"
     ]
    }
   ],
   "source": [
    "avengers[3] = 'Groot'\n",
    "print(avengers)"
   ]
  },
  {
   "cell_type": "code",
   "execution_count": 43,
   "metadata": {},
   "outputs": [
    {
     "name": "stdout",
     "output_type": "stream",
     "text": [
      "3\n"
     ]
    }
   ],
   "source": [
    "print(len(avengers))"
   ]
  },
  {
   "cell_type": "code",
   "execution_count": 44,
   "metadata": {},
   "outputs": [
    {
     "name": "stdout",
     "output_type": "stream",
     "text": [
      "12\n"
     ]
    }
   ],
   "source": [
    "## Exercise\n",
    "## Military time to standard time\n",
    "## Chart - https://external-content.duckduckgo.com/iu/?u=https%3A%2F%2Ftse1.mm.bing.net%2Fth%3Fid%3DOIP.4_KzM2GyY6IXbInLZ4xsugHaJl%26pid%3DApi&f=1&ipt=be0a8c29319968e0cbb65a960e14e161e097bbf3a06409390c78f906956ce2a0&ipo=images\n",
    "## 1300 \n",
    "standardHours = [12, 1, 2, 3, 4, 5, 6, 7, 8, 9, 10, 11]\n",
    "print(len(standardHours))"
   ]
  },
  {
   "cell_type": "code",
   "execution_count": 59,
   "metadata": {},
   "outputs": [
    {
     "name": "stdout",
     "output_type": "stream",
     "text": [
      "12 am\n"
     ]
    }
   ],
   "source": [
    "# hr_military = int(input(\"Enter military hour: \"))\n",
    "# print(standardHours[hr_military - len(standardHours)])\n",
    "\n",
    "standardHours = [12, 1, 2, 3, 4, 5, 6, 7, 8, 9, 10, 11]\n",
    "military_hr = int(input(\"Input military hour \"))\n",
    "sr = standardHours[military_hr - 12]\n",
    "if military_hr >= 12:\n",
    "    print( f'{sr} pm')\n",
    "else:\n",
    "    print( f'{sr} am')"
   ]
  },
  {
   "cell_type": "code",
   "execution_count": null,
   "metadata": {},
   "outputs": [],
   "source": [
    "## solution\n",
    "military_hour = 18\n",
    "hour = standardHours[military_hour % len(standardHours)]\n",
    "print(hour)"
   ]
  },
  {
   "cell_type": "code",
   "execution_count": null,
   "metadata": {},
   "outputs": [],
   "source": [
    "## How to consider AM/PM"
   ]
  },
  {
   "cell_type": "markdown",
   "metadata": {},
   "source": [
    "### Loop over a List"
   ]
  },
  {
   "cell_type": "code",
   "execution_count": 62,
   "metadata": {},
   "outputs": [
    {
     "name": "stdout",
     "output_type": "stream",
     "text": [
      "['Dr.Strange', 'Spiderman', 'Ironman']\n",
      "Dr.Strange\n",
      "--x--\n",
      "Spiderman\n",
      "--x--\n",
      "Ironman\n",
      "--x--\n"
     ]
    }
   ],
   "source": [
    "print(avengers)\n",
    "for a in avengers:\n",
    "    print(a)\n",
    "    print(\"--x--\")"
   ]
  },
  {
   "cell_type": "code",
   "execution_count": 63,
   "metadata": {},
   "outputs": [
    {
     "name": "stdout",
     "output_type": "stream",
     "text": [
      "4\n",
      "8\n",
      "14\n"
     ]
    }
   ],
   "source": [
    "num_list = [2,4,7]\n",
    "for item in num_list:\n",
    "    print(f\"{item * 2}\")"
   ]
  },
  {
   "cell_type": "code",
   "execution_count": 66,
   "metadata": {},
   "outputs": [
    {
     "name": "stdout",
     "output_type": "stream",
     "text": [
      "0 - Dr.Strange\n",
      "1 - Spiderman\n",
      "2 - Ironman\n"
     ]
    }
   ],
   "source": [
    "## If we need to print index for each avengers, we can use enumerate() function\n",
    "for index, a in enumerate(avengers):\n",
    "    print(f\"{index} - {a}\")"
   ]
  },
  {
   "cell_type": "code",
   "execution_count": 67,
   "metadata": {},
   "outputs": [
    {
     "name": "stdout",
     "output_type": "stream",
     "text": [
      "Index: 0 for Dr.Strange\n",
      "Index: 1 for Spiderman\n",
      "Index: 2 for Ironman\n"
     ]
    }
   ],
   "source": [
    "## Using range + length of list\n",
    "for i in range(len(avengers)):  ## for i in range(3):\n",
    "    print(f\"Index: {i} for {avengers[i]}\")"
   ]
  },
  {
   "cell_type": "code",
   "execution_count": null,
   "metadata": {},
   "outputs": [],
   "source": [
    "## avengers = ['Dr.Strange', 'Spiderman', 'Ironman']\n",
    "## villains list - 3 items\n",
    "## print - Dr.Strange fight with V1."
   ]
  },
  {
   "cell_type": "code",
   "execution_count": 69,
   "metadata": {},
   "outputs": [
    {
     "name": "stdout",
     "output_type": "stream",
     "text": [
      "Hero Dr.Strange fight with thanosA\n",
      "Hero Spiderman fight with tharnosB\n",
      "Hero Ironman fight with thanos\n"
     ]
    }
   ],
   "source": [
    "## Exercise\n",
    "villains = ['thanosA','tharnosB','thanos']\n",
    "for i in range(len(villains)):\n",
    "    print(f\"Hero {avengers[i]} fight with {villains[i]}\")\n",
    "    "
   ]
  },
  {
   "cell_type": "markdown",
   "metadata": {},
   "source": [
    "### List Operations\n",
    "- Addition - concatenates the lists one after another\n",
    "- Multiplication - repeating the list by the amount of multiply number\n",
    "- They don't work like normal mathematical operations."
   ]
  },
  {
   "cell_type": "code",
   "execution_count": null,
   "metadata": {},
   "outputs": [],
   "source": [
    "## List Operations - Addition\n",
    "a = [10, 20, 30]\n",
    "b = [4, 8, 12]\n",
    "c = a + b\n",
    "print(c)"
   ]
  },
  {
   "cell_type": "code",
   "execution_count": null,
   "metadata": {},
   "outputs": [],
   "source": [
    "a = [10, 20, 30]\n",
    "b = [4, 8, 12]\n",
    "c = ['A','b','C']\n",
    "d = a + b + c\n",
    "print(d)"
   ]
  },
  {
   "cell_type": "code",
   "execution_count": null,
   "metadata": {},
   "outputs": [],
   "source": [
    "## List Operations - multiplication\n",
    "c = 'car'\n",
    "print(3 * c)"
   ]
  },
  {
   "cell_type": "code",
   "execution_count": null,
   "metadata": {},
   "outputs": [],
   "source": [
    "avengers = ['Thor','Spiderman','Ironman']\n",
    "print(2 * avengers)"
   ]
  },
  {
   "cell_type": "code",
   "execution_count": null,
   "metadata": {},
   "outputs": [],
   "source": [
    "[5] * 4\n",
    "## 5 * 4"
   ]
  },
  {
   "cell_type": "markdown",
   "metadata": {},
   "source": [
    "### List Slicing"
   ]
  },
  {
   "cell_type": "code",
   "execution_count": null,
   "metadata": {},
   "outputs": [],
   "source": [
    "my_list = ['a','b','c','d','e','f']\n",
    "print(my_list)\n",
    "print(my_list[0:4])"
   ]
  },
  {
   "cell_type": "code",
   "execution_count": null,
   "metadata": {},
   "outputs": [],
   "source": [
    "## 0 is default value for start\n",
    "my_list[:4]"
   ]
  },
  {
   "cell_type": "code",
   "execution_count": null,
   "metadata": {},
   "outputs": [],
   "source": [
    "## get all items of list\n",
    "my_list[::]"
   ]
  },
  {
   "cell_type": "code",
   "execution_count": null,
   "metadata": {},
   "outputs": [],
   "source": [
    "## get items with even indices\n",
    "## start from 0, step size is 2\n",
    "## 0,2,4,...\n",
    "my_list[::2]"
   ]
  },
  {
   "cell_type": "code",
   "execution_count": null,
   "metadata": {},
   "outputs": [],
   "source": [
    "## get items with odd indices\n",
    "## start from 1, step size is 2\n",
    "## 1,3,5,...\n",
    "my_list[1::2]"
   ]
  },
  {
   "cell_type": "code",
   "execution_count": null,
   "metadata": {},
   "outputs": [],
   "source": [
    "## reverse of the list\n",
    "my_list[::-1]"
   ]
  },
  {
   "cell_type": "markdown",
   "metadata": {},
   "source": [
    "### List Methods\n",
    "- append() - adds an element at the end of the list\n",
    "- insert() - adds an element at specified index\n",
    "- extend() - concatenates a list to another\n",
    "- sort() - sorts the list\n",
    "- sorted() - sorts the list and return a new list"
   ]
  },
  {
   "cell_type": "code",
   "execution_count": null,
   "metadata": {},
   "outputs": [],
   "source": []
  }
 ],
 "metadata": {
  "interpreter": {
   "hash": "aee8b7b246df8f9039afb4144a1f6fd8d2ca17a180786b69acc140d282b71a49"
  },
  "kernelspec": {
   "display_name": "Python 3.11.0 64-bit",
   "language": "python",
   "name": "python3"
  },
  "language_info": {
   "codemirror_mode": {
    "name": "ipython",
    "version": 3
   },
   "file_extension": ".py",
   "mimetype": "text/x-python",
   "name": "python",
   "nbconvert_exporter": "python",
   "pygments_lexer": "ipython3",
   "version": "3.11.0"
  },
  "orig_nbformat": 4
 },
 "nbformat": 4,
 "nbformat_minor": 2
}
