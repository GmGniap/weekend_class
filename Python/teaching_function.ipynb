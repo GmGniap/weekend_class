{
 "cells": [
  {
   "cell_type": "markdown",
   "metadata": {},
   "source": [
    "# Function\n",
    "- Built-in Functions\n",
    "    - int() , str()\n",
    "    - random , math modules > function\n",
    "- Write your own functions"
   ]
  },
  {
   "cell_type": "code",
   "execution_count": 20,
   "metadata": {},
   "outputs": [],
   "source": [
    "## Without parameter\n",
    "def hello_world():\n",
    "    print(\"This is my first function - Hello World!\")"
   ]
  },
  {
   "cell_type": "code",
   "execution_count": 26,
   "metadata": {},
   "outputs": [
    {
     "name": "stdout",
     "output_type": "stream",
     "text": [
      "This is my first function - Hello World!\n",
      "This is my first function - Hello World!\n",
      "This is my first function - Hello World!\n"
     ]
    }
   ],
   "source": [
    "hello_world()\n",
    "for i in range(2):\n",
    "    hello_world()"
   ]
  },
  {
   "cell_type": "code",
   "execution_count": null,
   "metadata": {},
   "outputs": [],
   "source": [
    "## Write a function that print something.\n",
    "## Call this function 3 times."
   ]
  },
  {
   "cell_type": "markdown",
   "metadata": {},
   "source": [
    "### Why we need to use function?\n",
    "- Reusable\n",
    "- Clean code\n",
    "\n",
    "### Parameters & Arguments\n",
    "- Parameter - variable listed inside the parentheses in the function definition.\n",
    "- Argument - value that are sent to the function when it's called.\n",
    "- These two refer to the same thing with a slight difference."
   ]
  },
  {
   "cell_type": "code",
   "execution_count": 32,
   "metadata": {},
   "outputs": [],
   "source": [
    "## define function which takes a parameter\n",
    "def print_square(number1):\n",
    "    sqr = number1 ** 2\n",
    "    print(sqr)"
   ]
  },
  {
   "cell_type": "code",
   "execution_count": 28,
   "metadata": {},
   "outputs": [
    {
     "ename": "TypeError",
     "evalue": "print_square() missing 1 required positional argument: 'number'",
     "output_type": "error",
     "traceback": [
      "\u001b[0;31m---------------------------------------------------------------------------\u001b[0m",
      "\u001b[0;31mTypeError\u001b[0m                                 Traceback (most recent call last)",
      "Cell \u001b[0;32mIn [28], line 2\u001b[0m\n\u001b[1;32m      1\u001b[0m \u001b[38;5;66;03m## call above function without an argument\u001b[39;00m\n\u001b[0;32m----> 2\u001b[0m \u001b[43mprint_square\u001b[49m\u001b[43m(\u001b[49m\u001b[43m)\u001b[49m\n",
      "\u001b[0;31mTypeError\u001b[0m: print_square() missing 1 required positional argument: 'number'"
     ]
    }
   ],
   "source": [
    "## call above function without an argument\n",
    "print_square()"
   ]
  },
  {
   "cell_type": "code",
   "execution_count": 33,
   "metadata": {},
   "outputs": [
    {
     "name": "stdout",
     "output_type": "stream",
     "text": [
      "256\n"
     ]
    }
   ],
   "source": [
    "## call above function with an argument\n",
    "# print_square(8)\n",
    "print_square(16)"
   ]
  },
  {
   "cell_type": "code",
   "execution_count": 34,
   "metadata": {},
   "outputs": [],
   "source": [
    "## write function with parameter \"name\"\n",
    "## format print with name variable , \"Hello, {name}\"\n",
    "def hello_func(name):\n",
    "    print(f\"Hello {name}!\")"
   ]
  },
  {
   "cell_type": "code",
   "execution_count": 36,
   "metadata": {},
   "outputs": [
    {
     "name": "stdout",
     "output_type": "stream",
     "text": [
      "Hello SWT!\n"
     ]
    }
   ],
   "source": [
    "## with argument \"SWT\"\n",
    "hello_func(\"SWT\")"
   ]
  },
  {
   "cell_type": "markdown",
   "metadata": {},
   "source": [
    "### Return\n",
    "- We use `return` keyword to **exit a function** and **return value(s)**.\n",
    "- Functions which do not return any value are generally called as **Void Functions**."
   ]
  },
  {
   "cell_type": "code",
   "execution_count": 56,
   "metadata": {},
   "outputs": [],
   "source": [
    "def cube(n):\n",
    "    n_cube = n ** 3\n",
    "    \n",
    "    return(n_cube)"
   ]
  },
  {
   "cell_type": "code",
   "execution_count": 58,
   "metadata": {},
   "outputs": [
    {
     "name": "stdout",
     "output_type": "stream",
     "text": [
      "27\n"
     ]
    }
   ],
   "source": [
    "result = cube(5)\n",
    "print(result)"
   ]
  },
  {
   "cell_type": "code",
   "execution_count": 5,
   "metadata": {},
   "outputs": [
    {
     "name": "stdout",
     "output_type": "stream",
     "text": [
      "125\n",
      "None\n"
     ]
    }
   ],
   "source": [
    "result_of_five = cube(5)\n",
    "print(result_of_five)"
   ]
  },
  {
   "cell_type": "code",
   "execution_count": 59,
   "metadata": {},
   "outputs": [],
   "source": [
    "## write function calc_square with parameter \"number\"\n",
    "## return result\n",
    "## create variable \"my_num\" to get the result from calc_square() with argument 5\n",
    "## print(my_num)\n",
    "def calc_square(number):\n",
    "    result = number ** 2\n",
    "    return result"
   ]
  },
  {
   "cell_type": "code",
   "execution_count": 68,
   "metadata": {},
   "outputs": [
    {
     "name": "stdout",
     "output_type": "stream",
     "text": [
      "25\n"
     ]
    }
   ],
   "source": [
    "my_num = calc_square(5)\n",
    "print(my_num)"
   ]
  },
  {
   "cell_type": "markdown",
   "metadata": {},
   "source": [
    "### Function Scope\n",
    "- Global\n",
    "- Local"
   ]
  },
  {
   "cell_type": "markdown",
   "metadata": {},
   "source": [
    "### Python 101 Book\n",
    "To Read:\n",
    "- **Chapter 17 - Functions**\n",
    "    - Creating a function\n",
    "    - Calling a function\n",
    "    - Passing Arguments\n",
    "    - Type Hinting your Arguments\n",
    "    - Passing Keyword Arguments\n",
    "    - Required and Default Arguments"
   ]
  }
 ],
 "metadata": {
  "interpreter": {
   "hash": "333d2c9757a75282c9d4867cccb346dd97fbdd6438562bec117fa31e687fe23c"
  },
  "kernelspec": {
   "display_name": "Python 3.11.0 64-bit",
   "language": "python",
   "name": "python3"
  },
  "language_info": {
   "codemirror_mode": {
    "name": "ipython",
    "version": 3
   },
   "file_extension": ".py",
   "mimetype": "text/x-python",
   "name": "python",
   "nbconvert_exporter": "python",
   "pygments_lexer": "ipython3",
   "version": "3.11.0"
  },
  "orig_nbformat": 4
 },
 "nbformat": 4,
 "nbformat_minor": 2
}
