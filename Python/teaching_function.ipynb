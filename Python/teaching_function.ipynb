{
 "cells": [
  {
   "cell_type": "markdown",
   "metadata": {},
   "source": [
    "# Function\n",
    "- Built-in Functions\n",
    "    - int() , str()\n",
    "    - random , math modules > function\n",
    "- Write your own functions"
   ]
  },
  {
   "cell_type": "code",
   "execution_count": 1,
   "metadata": {},
   "outputs": [],
   "source": [
    "## Without parameter\n",
    "def my_first_func():\n",
    "    print(\"This is my first function!\")"
   ]
  },
  {
   "cell_type": "code",
   "execution_count": null,
   "metadata": {},
   "outputs": [],
   "source": [
    "## Write a function that print something.\n",
    "## Call this function 3 times."
   ]
  },
  {
   "cell_type": "markdown",
   "metadata": {},
   "source": [
    "### Why we need to use function?\n",
    "- Reusable\n",
    "- Clean code\n",
    "\n",
    "### Parameters & Arguments\n",
    "- Parameter - variable listed inside the parentheses in the function definition.\n",
    "- Argument - value that are sent to the function when it's called.\n",
    "- These two refer to the same thing with a slight difference."
   ]
  },
  {
   "cell_type": "code",
   "execution_count": 2,
   "metadata": {},
   "outputs": [],
   "source": [
    "## define function which takes a parameter\n",
    "def print_square(number):\n",
    "    sqr = number ** 2\n",
    "    print(sqr)"
   ]
  },
  {
   "cell_type": "code",
   "execution_count": null,
   "metadata": {},
   "outputs": [],
   "source": [
    "## call above function without an argument\n",
    "print_square()"
   ]
  },
  {
   "cell_type": "code",
   "execution_count": null,
   "metadata": {},
   "outputs": [],
   "source": [
    "## call above function with an argument\n",
    "print_square(8)\n",
    "print_square(12)"
   ]
  },
  {
   "cell_type": "markdown",
   "metadata": {},
   "source": [
    "### Return\n",
    "- We use `return` keyword to **exit a function** and **return value(s)**.\n",
    "- Functions which do not return any value are generally called as **Void Functions**."
   ]
  },
  {
   "cell_type": "code",
   "execution_count": 7,
   "metadata": {},
   "outputs": [],
   "source": [
    "def cube(n):\n",
    "    n_cube = n ** 3\n",
    "    \n",
    "    return n_cube"
   ]
  },
  {
   "cell_type": "code",
   "execution_count": 5,
   "metadata": {},
   "outputs": [
    {
     "name": "stdout",
     "output_type": "stream",
     "text": [
      "125\n",
      "None\n"
     ]
    }
   ],
   "source": [
    "result_of_five = cube(5)\n",
    "print(result_of_five)"
   ]
  }
 ],
 "metadata": {
  "interpreter": {
   "hash": "333d2c9757a75282c9d4867cccb346dd97fbdd6438562bec117fa31e687fe23c"
  },
  "kernelspec": {
   "display_name": "Python 3.11.0 64-bit",
   "language": "python",
   "name": "python3"
  },
  "language_info": {
   "codemirror_mode": {
    "name": "ipython",
    "version": 3
   },
   "file_extension": ".py",
   "mimetype": "text/x-python",
   "name": "python",
   "nbconvert_exporter": "python",
   "pygments_lexer": "ipython3",
   "version": "3.11.0"
  },
  "orig_nbformat": 4
 },
 "nbformat": 4,
 "nbformat_minor": 2
}
