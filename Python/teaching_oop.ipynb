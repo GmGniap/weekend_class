{
 "cells": [
  {
   "cell_type": "markdown",
   "metadata": {},
   "source": [
    "### Teaching kids about OOP\n",
    "- Instance Method (normal method) vs Class Method vs Static Method\n",
    "- Instance Method\n",
    "    - Can modify object instance state\n",
    "    - Can modify class state\n",
    "- Class Method\n",
    "    - ❌ Can't modify object instance state -> Can't access self object\n",
    "    - Can modify class state\n",
    "- Static Method\n",
    "    - ❌ Can't modify object instance state\n",
    "    - ❌ Can't modify class state"
   ]
  },
  {
   "cell_type": "markdown",
   "metadata": {},
   "source": []
  },
  {
   "cell_type": "code",
   "execution_count": 1,
   "metadata": {},
   "outputs": [],
   "source": [
    "class TestClass:\n",
    "    def normal_method(self):\n",
    "        return \"normal instance method called\" , self\n",
    "    \n",
    "    @staticmethod\n",
    "    def static_method():\n",
    "        return \"static method called\"\n",
    "    \n",
    "    @classmethod\n",
    "    def class_method(cls):\n",
    "        return \"class method called\" , cls"
   ]
  },
  {
   "cell_type": "code",
   "execution_count": 8,
   "metadata": {},
   "outputs": [],
   "source": [
    "class Food:\n",
    "    def __init__(self, ingredients) -> None:\n",
    "        self.ingredients = ingredients\n",
    "    \n",
    "    def __repr__(self) -> str:\n",
    "        return f\"Food({self.ingredients})\"\n",
    "    \n",
    "    @classmethod\n",
    "    def margherita(cls):\n",
    "        return cls(['cheese', 'tomatoes'])\n",
    "    \n",
    "    @classmethod\n",
    "    def htaminnkyaw(cls):\n",
    "        return cls(['ထမင်း', 'ပဲပြုတ်'])"
   ]
  },
  {
   "cell_type": "code",
   "execution_count": 9,
   "metadata": {},
   "outputs": [
    {
     "name": "stdout",
     "output_type": "stream",
     "text": [
      "Food(['cheese', 'tomatoes'])\n"
     ]
    }
   ],
   "source": [
    "p = Food(['cheese', 'tomatoes'])\n",
    "print(p)"
   ]
  },
  {
   "cell_type": "code",
   "execution_count": 10,
   "metadata": {},
   "outputs": [
    {
     "data": {
      "text/plain": [
       "Food(['ထမင်း', 'ပဲပြုတ်'])"
      ]
     },
     "execution_count": 10,
     "metadata": {},
     "output_type": "execute_result"
    }
   ],
   "source": [
    "Food.htaminnkyaw()"
   ]
  },
  {
   "cell_type": "code",
   "execution_count": 20,
   "metadata": {},
   "outputs": [
    {
     "name": "stdout",
     "output_type": "stream",
     "text": [
      "['develop', 'intuitive', 'understanding', 'differences', 'write', 'object-oriented', 'Python.']\n"
     ]
    }
   ],
   "source": [
    "sentence = \"If you develop an intuitive understanding for the differences you will be able to write object-oriented Python.\"\n",
    "r = sentence.split(\" \")\n",
    "\n",
    "for i in r.copy():\n",
    "    if len(i) < 5:\n",
    "        r.remove(i)   \n",
    "print(r)"
   ]
  },
  {
   "cell_type": "code",
   "execution_count": 19,
   "metadata": {},
   "outputs": [
    {
     "data": {
      "text/plain": [
       "['develop',\n",
       " 'intuitive',\n",
       " 'understanding',\n",
       " 'differences',\n",
       " 'write',\n",
       " 'object-oriented',\n",
       " 'Python.']"
      ]
     },
     "execution_count": 19,
     "metadata": {},
     "output_type": "execute_result"
    }
   ],
   "source": [
    "class own_pdf(FPDF):\n",
    "    "
   ]
  },
  {
   "cell_type": "code",
   "execution_count": 1,
   "metadata": {},
   "outputs": [],
   "source": [
    "class ParentClass:\n",
    "    def __init__(self) -> None:\n",
    "        self.parent = \"Parent\"\n",
    "    \n",
    "    def get_parent_name(self):\n",
    "        return self.parent"
   ]
  },
  {
   "cell_type": "code",
   "execution_count": 6,
   "metadata": {},
   "outputs": [],
   "source": [
    "class ChildClass(ParentClass):\n",
    "    def __init__(self) -> None:\n",
    "        # super().__init__()\n",
    "        print(self.get_parent_name())\n",
    "        "
   ]
  },
  {
   "cell_type": "code",
   "execution_count": 7,
   "metadata": {},
   "outputs": [
    {
     "name": "stdout",
     "output_type": "stream",
     "text": [
      "Parent\n"
     ]
    }
   ],
   "source": [
    "c = ChildClass()"
   ]
  }
 ],
 "metadata": {
  "kernelspec": {
   "display_name": "Python 3",
   "language": "python",
   "name": "python3"
  },
  "language_info": {
   "codemirror_mode": {
    "name": "ipython",
    "version": 3
   },
   "file_extension": ".py",
   "mimetype": "text/x-python",
   "name": "python",
   "nbconvert_exporter": "python",
   "pygments_lexer": "ipython3",
   "version": "3.12.0"
  }
 },
 "nbformat": 4,
 "nbformat_minor": 2
}
