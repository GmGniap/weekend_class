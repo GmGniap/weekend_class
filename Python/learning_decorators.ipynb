{
 "cells": [
  {
   "cell_type": "code",
   "execution_count": null,
   "metadata": {},
   "outputs": [],
   "source": []
  },
  {
   "cell_type": "markdown",
   "metadata": {},
   "source": [
    "# Decorators\n",
    "- A function that take another function\n",
    "- Extend that function\n",
    "- Without explicitly modifying that function"
   ]
  },
  {
   "cell_type": "markdown",
   "metadata": {},
   "source": [
    "## Functions\n",
    "- Functions are first-class object. (they can be used as arguments also.)\n",
    "- Functions can be put into a list as list objects and can be index & called to use.\n",
    "- Inner function (can call Nested function too) - Function inside another function. (Scope will be important. Child functions can't be called directly.)"
   ]
  }
 ],
 "metadata": {
  "language_info": {
   "name": "python"
  },
  "orig_nbformat": 4
 },
 "nbformat": 4,
 "nbformat_minor": 2
}
